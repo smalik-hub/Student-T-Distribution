{
 "cells": [
  {
   "cell_type": "code",
   "execution_count": 12,
   "metadata": {},
   "outputs": [
    {
     "name": "stdout",
     "output_type": "stream",
     "text": [
      "t-value for one-tailed test: 2.2795770510504845\n",
      "t-value for two-tailed test: 0.01752252813363832\n"
     ]
    }
   ],
   "source": [
    "\"\"\"\n",
    "Student's T-Distribution Example\n",
    "Given two samples (e.g A and B), calculate the \n",
    "t-value for one-tailed test and two-tailed test\n",
    "using the python scipy.stats library\n",
    "\"\"\"\n",
    "\n",
    "\n",
    "from scipy.stats import ttest_ind\n",
    "\n",
    "a = [1184,1203,1219,1238,1243,1204,1269,1256,1156,1248]  # Sample A - number of cars produced per day\n",
    "b = [1136,1178,1212,1193,1226,1154,1230,1222,1161,1148]  # Sample B - number of cars produced per day\n",
    " \n",
    "t_value_one_tail = ttest_ind(a,b).statistic\n",
    "print(\"t-value for one-tailed test:\",t_value_one_tail)\n",
    "\n",
    "t_value_two_tail = ttest_ind(a,b).pvalue/2\n",
    "print(\"t-value for two-tailed test:\",t_value_two_tail)"
   ]
  }
 ],
 "metadata": {
  "kernelspec": {
   "display_name": "Python 3",
   "language": "python",
   "name": "python3"
  },
  "language_info": {
   "codemirror_mode": {
    "name": "ipython",
    "version": 3
   },
   "file_extension": ".py",
   "mimetype": "text/x-python",
   "name": "python",
   "nbconvert_exporter": "python",
   "pygments_lexer": "ipython3",
   "version": "3.7.6"
  }
 },
 "nbformat": 4,
 "nbformat_minor": 4
}
